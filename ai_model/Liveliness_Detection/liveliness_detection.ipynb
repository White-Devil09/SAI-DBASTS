{
 "cells": [
  {
   "cell_type": "code",
   "execution_count": null,
   "metadata": {},
   "outputs": [],
   "source": [
    "# %pip install resampy\n",
    "# %pip install tqdm\n",
    "# %pip install imblearn"
   ]
  },
  {
   "cell_type": "code",
   "execution_count": null,
   "metadata": {},
   "outputs": [],
   "source": [
    "import numpy as np\n",
    "import pandas as pd\n",
    "import os\n",
    "import librosa\n",
    "import matplotlib.pyplot as plt\n",
    "import seaborn as sns\n",
    "from tqdm import tqdm\n",
    "import IPython\n",
    "from sklearn.model_selection import train_test_split\n",
    "from sklearn.preprocessing import LabelEncoder\n",
    "from imblearn.over_sampling import RandomOverSampler\n",
    "from tensorflow.keras.models import Sequential\n",
    "from tensorflow.keras.layers import Dense, Activation, Dropout, Conv2D, MaxPool2D, Flatten\n",
    "from tensorflow.keras.utils import to_categorical\n",
    "from tensorflow.keras.callbacks import EarlyStopping\n"
   ]
  },
  {
   "cell_type": "code",
   "execution_count": null,
   "metadata": {},
   "outputs": [],
   "source": [
    "audio_file_path = \"Dataset/\"\n",
    "folders = os.listdir(audio_file_path)\n",
    "folders"
   ]
  },
  {
   "cell_type": "code",
   "execution_count": null,
   "metadata": {},
   "outputs": [],
   "source": [
    "def visualize(audio_file_path, Tag):\n",
    "    ad, sr = librosa.load(audio_file_path)\n",
    "\n",
    "    spec = np.abs(librosa.stft(ad))\n",
    "    spec = librosa.amplitude_to_db(spec, ref=np.max)\n",
    "\n",
    "    mel_spect = librosa.feature.melspectrogram(y=ad, sr=sr)\n",
    "    mel_spect = librosa.power_to_db(mel_spect, ref=np.max)\n",
    "\n",
    "    chroma = librosa.feature.chroma_cqt(y=ad, sr=sr, bins_per_octave=36)\n",
    "\n",
    "    mfcc = librosa.feature.mfcc(y=ad, sr=sr)\n",
    "\n",
    "    fig, ax = plt.subplots(5, 1, figsize=(10, 15), constrained_layout=True)\n",
    "    fig.suptitle(f'Visualization of {Tag} audio', fontsize=16)\n",
    "\n",
    "    ax[0].plot(ad)\n",
    "    ax[0].set_title(f'{Tag} audio Waveform')\n",
    "\n",
    "    img = librosa.display.specshow(spec, sr=sr, x_axis='time', y_axis='log', ax=ax[1])\n",
    "    fig.colorbar(img, ax=ax[1], format=\"%+2.0f dB\")\n",
    "    ax[1].set_title(f'{Tag} audio spectrogram')\n",
    "\n",
    "    img = librosa.display.specshow(mel_spect, sr=sr, x_axis='time', y_axis='mel', ax=ax[2])\n",
    "    fig.colorbar(img, ax=ax[2], format=\"%+2.0f dB\")\n",
    "    ax[2].set_title(f'{Tag} audio Mel Spectrogram')\n",
    "\n",
    "    img = librosa.display.specshow(chroma, sr=sr, x_axis='time', y_axis='chroma', ax=ax[3])\n",
    "    fig.colorbar(img, ax=ax[3], format=\"%+2.0f dB\")\n",
    "    ax[3].set_title(f'{Tag} audio Chroma')\n",
    "\n",
    "    img = librosa.display.specshow(mfcc, sr=sr, x_axis='time', ax=ax[4])\n",
    "    fig.colorbar(img, ax=ax[4], format=\"%+2.0f dB\")\n",
    "    ax[4].set_title(f'{Tag} audio MFCC')\n",
    "\n",
    "    plt.show()"
   ]
  },
  {
   "cell_type": "code",
   "execution_count": null,
   "metadata": {},
   "outputs": [],
   "source": [
    "demo_audio_paths = os.path.join(audio_file_path, 'DEMO')\n",
    "\n",
    "for item in os.listdir(demo_audio_paths):\n",
    "    if item.find(\"original\") != -1:\n",
    "        real_audio_path = os.path.join(demo_audio_paths, item)\n",
    "    else:\n",
    "        fake_audio_path = os.path.join(demo_audio_paths, item)"
   ]
  },
  {
   "cell_type": "code",
   "execution_count": null,
   "metadata": {},
   "outputs": [],
   "source": [
    "visualize(real_audio_path, \"Real\")"
   ]
  },
  {
   "cell_type": "code",
   "execution_count": null,
   "metadata": {},
   "outputs": [],
   "source": [
    "visualize(fake_audio_path, \"Fake\")"
   ]
  }
 ],
 "metadata": {
  "kernelspec": {
   "display_name": ".venv",
   "language": "python",
   "name": "python3"
  },
  "language_info": {
   "codemirror_mode": {
    "name": "ipython",
    "version": 3
   },
   "file_extension": ".py",
   "mimetype": "text/x-python",
   "name": "python",
   "nbconvert_exporter": "python",
   "pygments_lexer": "ipython3",
   "version": "3.12.3"
  }
 },
 "nbformat": 4,
 "nbformat_minor": 2
}
